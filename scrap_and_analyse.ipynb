{
 "cells": [
  {
   "cell_type": "code",
   "execution_count": 1,
   "metadata": {},
   "outputs": [],
   "source": [
    "import requests,time\n",
    "from bs4 import BeautifulSoup"
   ]
  },
  {
   "cell_type": "markdown",
   "metadata": {},
   "source": [
    "Below code collects data from second page"
   ]
  },
  {
   "cell_type": "code",
   "execution_count": 3,
   "metadata": {},
   "outputs": [],
   "source": [
    "a = []\n",
    "view = []\n",
    "rate = []\n",
    "neg_count= 0\n",
    "pos_count=0\n",
    "neu_count=0\n",
    "for i in range(120,600):\n",
    "    response = requests.get('https://www.flipkart.com/apple-iphone-6-gold-32-gb/product-reviews/itmewxhuufbzchrn?pid=MOBEWXHUSBXVJ7NZ&lid=LSTMOBEWXHUSBXVJ7NZPXN7ZL&marketplace=FLIPKART&page='+str(i))\n",
    "    soup = BeautifulSoup(response.text,'lxml')\n",
    "    reviews = soup.find_all(class_='col _390CkK _1gY8H-')\n",
    "    for i in reviews:\n",
    "        a.append(i.get_text())\n",
    "    for i in a:\n",
    "        if int(i[0])<3:\n",
    "            view.append(i[1:])\n",
    "            rate.append(\"negative\")\n",
    "            neg_count+=1\n",
    "        elif (int(i[0])==3 or int(i[0]) == 4):\n",
    "            view.append(i[1:])\n",
    "            rate.append(\"neutral\")\n",
    "            neu_count+=1\n",
    "        else:\n",
    "            view.append(i[1:])\n",
    "            rate.append(\"positive\")\n",
    "            pos_count+=1\n"
   ]
  },
  {
   "cell_type": "markdown",
   "metadata": {},
   "source": [
    "#Now this code collects data of first page"
   ]
  },
  {
   "cell_type": "code",
   "execution_count": 4,
   "metadata": {},
   "outputs": [
    {
     "ename": "SyntaxError",
     "evalue": "invalid syntax (<ipython-input-4-96cfa58ca53c>, line 11)",
     "output_type": "error",
     "traceback": [
      "\u001b[0;36m  File \u001b[0;32m\"<ipython-input-4-96cfa58ca53c>\"\u001b[0;36m, line \u001b[0;32m11\u001b[0m\n\u001b[0;31m    elif (int(i[0])==3 or int(i[0] == 4):\u001b[0m\n\u001b[0m                                        ^\u001b[0m\n\u001b[0;31mSyntaxError\u001b[0m\u001b[0;31m:\u001b[0m invalid syntax\n"
     ]
    }
   ],
   "source": [
    "response = requests.get('https://www.flipkart.com/apple-iphone-6-gold-32-gb/product-reviews/itmewxhuufbzchrn?pid=MOBEWXHUSBXVJ7NZ&lid=LSTMOBEWXHUSBXVJ7NZPXN7ZL&marketplace=FLIPKART')\n",
    "soup = BeautifulSoup(response.text,'lxml')\n",
    "reviews = soup.find_all(class_='col _390CkK _1gY8H-')\n",
    "for i in reviews:\n",
    "    a.append(i.get_text())\n",
    "for i in a:\n",
    "    if int(i[0])<3:\n",
    "        view.append(i[1:])\n",
    "        rate.append(\"negative\")\n",
    "        neg_count+=1\n",
    "    elif (int(i[0])==3 or int(i[0] == 4):\n",
    "        view.append(i[1:])\n",
    "        rate.append(\"neutral\")\n",
    "        neu_count+=1\n",
    "    else:\n",
    "        view.append(i[1:])\n",
    "        rate.append(\"positive\")\n",
    "        pos_count+=1"
   ]
  },
  {
   "cell_type": "code",
   "execution_count": 5,
   "metadata": {},
   "outputs": [
    {
     "name": "stdout",
     "output_type": "stream",
     "text": [
      "--------------------------------------------------------------\n",
      "neutral:  222580\n",
      "----------------------------------------------------------------\n",
      "negative:  183308\n",
      "----------------------------------------------------------------\n",
      "positive:  745162\n"
     ]
    }
   ],
   "source": [
    "print(\"--------------------------------------------------------------\")\n",
    "print(\"neutral: \",neu_count)\n",
    "print(\"----------------------------------------------------------------\")\n",
    "print(\"negative: \",neg_count)\n",
    "print(\"----------------------------------------------------------------\")\n",
    "print(\"positive: \",pos_count)"
   ]
  },
  {
   "cell_type": "markdown",
   "metadata": {},
   "source": [
    "## Creating the File"
   ]
  },
  {
   "cell_type": "code",
   "execution_count": 6,
   "metadata": {},
   "outputs": [],
   "source": [
    "import csv"
   ]
  },
  {
   "cell_type": "code",
   "execution_count": 7,
   "metadata": {},
   "outputs": [],
   "source": [
    "with open('rating1.csv','w',newline='',encoding='utf-8') as f:\n",
    "    hello = csv.writer(f)\n",
    "    hello.writerow(['reviews','ratings'])\n",
    "    for i,j in zip(view,rate):\n",
    "        hello.writerow([i,j])"
   ]
  },
  {
   "cell_type": "code",
   "execution_count": 8,
   "metadata": {},
   "outputs": [
    {
     "data": {
      "text/html": [
       "<div>\n",
       "<style scoped>\n",
       "    .dataframe tbody tr th:only-of-type {\n",
       "        vertical-align: middle;\n",
       "    }\n",
       "\n",
       "    .dataframe tbody tr th {\n",
       "        vertical-align: top;\n",
       "    }\n",
       "\n",
       "    .dataframe thead th {\n",
       "        text-align: right;\n",
       "    }\n",
       "</style>\n",
       "<table border=\"1\" class=\"dataframe\">\n",
       "  <thead>\n",
       "    <tr style=\"text-align: right;\">\n",
       "      <th></th>\n",
       "      <th>reviews</th>\n",
       "      <th>ratings</th>\n",
       "    </tr>\n",
       "  </thead>\n",
       "  <tbody>\n",
       "    <tr>\n",
       "      <th>0</th>\n",
       "      <td>Hated it!I have not got a perfect phoneYou sho...</td>\n",
       "      <td>negative</td>\n",
       "    </tr>\n",
       "    <tr>\n",
       "      <th>1</th>\n",
       "      <td>Worst experience ever!WorstREAD MOREApurba  De...</td>\n",
       "      <td>negative</td>\n",
       "    </tr>\n",
       "    <tr>\n",
       "      <th>2</th>\n",
       "      <td>Absolute rubbish!Very bad mobile don't buy I b...</td>\n",
       "      <td>negative</td>\n",
       "    </tr>\n",
       "    <tr>\n",
       "      <th>3</th>\n",
       "      <td>Best of appleStylish product.Was not sure of b...</td>\n",
       "      <td>positive</td>\n",
       "    </tr>\n",
       "    <tr>\n",
       "      <th>4</th>\n",
       "      <td>Simply awesomeGood oneREAD MORERanjith  sagara...</td>\n",
       "      <td>positive</td>\n",
       "    </tr>\n",
       "    <tr>\n",
       "      <th>...</th>\n",
       "      <td>...</td>\n",
       "      <td>...</td>\n",
       "    </tr>\n",
       "    <tr>\n",
       "      <th>1151045</th>\n",
       "      <td>Perfect Machine but Battery Sucks!!!Classic Pr...</td>\n",
       "      <td>neutral</td>\n",
       "    </tr>\n",
       "    <tr>\n",
       "      <th>1151046</th>\n",
       "      <td>TerrificOrignal product. Order freely without ...</td>\n",
       "      <td>positive</td>\n",
       "    </tr>\n",
       "    <tr>\n",
       "      <th>1151047</th>\n",
       "      <td>Does the jobThanks for uREAD MOREarun  kumarCe...</td>\n",
       "      <td>neutral</td>\n",
       "    </tr>\n",
       "    <tr>\n",
       "      <th>1151048</th>\n",
       "      <td>Best in the market!ExcellentREAD MOREAkramCert...</td>\n",
       "      <td>positive</td>\n",
       "    </tr>\n",
       "    <tr>\n",
       "      <th>1151049</th>\n",
       "      <td>Classy productOriginal product. I don't want t...</td>\n",
       "      <td>positive</td>\n",
       "    </tr>\n",
       "  </tbody>\n",
       "</table>\n",
       "<p>1151050 rows × 2 columns</p>\n",
       "</div>"
      ],
      "text/plain": [
       "                                                   reviews   ratings\n",
       "0        Hated it!I have not got a perfect phoneYou sho...  negative\n",
       "1        Worst experience ever!WorstREAD MOREApurba  De...  negative\n",
       "2        Absolute rubbish!Very bad mobile don't buy I b...  negative\n",
       "3        Best of appleStylish product.Was not sure of b...  positive\n",
       "4        Simply awesomeGood oneREAD MORERanjith  sagara...  positive\n",
       "...                                                    ...       ...\n",
       "1151045  Perfect Machine but Battery Sucks!!!Classic Pr...   neutral\n",
       "1151046  TerrificOrignal product. Order freely without ...  positive\n",
       "1151047  Does the jobThanks for uREAD MOREarun  kumarCe...   neutral\n",
       "1151048  Best in the market!ExcellentREAD MOREAkramCert...  positive\n",
       "1151049  Classy productOriginal product. I don't want t...  positive\n",
       "\n",
       "[1151050 rows x 2 columns]"
      ]
     },
     "execution_count": 8,
     "metadata": {},
     "output_type": "execute_result"
    }
   ],
   "source": [
    "import pandas as pd\n",
    "csv = pd.read_csv('rating1.csv')\n",
    "csv"
   ]
  },
  {
   "cell_type": "code",
   "execution_count": 9,
   "metadata": {},
   "outputs": [],
   "source": [
    "import nltk\n",
    "from nltk.corpus import stopwords\n",
    "import string"
   ]
  },
  {
   "cell_type": "code",
   "execution_count": 10,
   "metadata": {},
   "outputs": [],
   "source": [
    "def text_process(mess):\n",
    "    # Remove punc\n",
    "    # Remove Stop words\n",
    "    # return clean list\n",
    "    no_punc = [x for x in mess if x not in string.punctuation]\n",
    "    no_punc = ''.join(no_punc)\n",
    "    no_stop = [w for w in no_punc.split() if w.lower() not in stopwords.words('english')]\n",
    "    return no_stop"
   ]
  },
  {
   "cell_type": "code",
   "execution_count": 11,
   "metadata": {},
   "outputs": [],
   "source": [
    "from sklearn.feature_extraction.text import CountVectorizer\n",
    "from sklearn.feature_extraction.text import TfidfTransformer\n",
    "from sklearn.naive_bayes import MultinomialNB"
   ]
  },
  {
   "cell_type": "code",
   "execution_count": 12,
   "metadata": {},
   "outputs": [],
   "source": [
    "from sklearn.model_selection import train_test_split\n",
    "msg_train,msg_test,label_train,label_test = train_test_split(csv['reviews'],csv['ratings'],test_size=0.2,random_state=101)"
   ]
  },
  {
   "cell_type": "code",
   "execution_count": 13,
   "metadata": {},
   "outputs": [],
   "source": [
    "from sklearn.pipeline import Pipeline"
   ]
  },
  {
   "cell_type": "code",
   "execution_count": 14,
   "metadata": {},
   "outputs": [],
   "source": [
    "pipeline = Pipeline([\n",
    "    ('bow',CountVectorizer(analyzer=text_process)),\n",
    "    ('tfidf',TfidfTransformer()),\n",
    "    ('classifier',MultinomialNB())\n",
    "])"
   ]
  },
  {
   "cell_type": "code",
   "execution_count": 15,
   "metadata": {},
   "outputs": [
    {
     "data": {
      "text/plain": [
       "Pipeline(steps=[('bow',\n",
       "                 CountVectorizer(analyzer=<function text_process at 0x7fc92bb5ae50>)),\n",
       "                ('tfidf', TfidfTransformer()),\n",
       "                ('classifier', MultinomialNB())])"
      ]
     },
     "execution_count": 15,
     "metadata": {},
     "output_type": "execute_result"
    }
   ],
   "source": [
    "pipeline.fit(msg_train,label_train)"
   ]
  },
  {
   "cell_type": "code",
   "execution_count": 16,
   "metadata": {},
   "outputs": [],
   "source": [
    "predictions = pipeline.predict(msg_test)"
   ]
  },
  {
   "cell_type": "code",
   "execution_count": 17,
   "metadata": {},
   "outputs": [],
   "source": [
    "from sklearn.metrics import classification_report"
   ]
  },
  {
   "cell_type": "code",
   "execution_count": 18,
   "metadata": {},
   "outputs": [
    {
     "name": "stdout",
     "output_type": "stream",
     "text": [
      "              precision    recall  f1-score   support\n",
      "\n",
      "    negative       1.00      1.00      1.00     36804\n",
      "     neutral       1.00      0.98      0.99     44589\n",
      "    positive       0.99      1.00      1.00    148817\n",
      "\n",
      "    accuracy                           0.99    230210\n",
      "   macro avg       1.00      0.99      0.99    230210\n",
      "weighted avg       0.99      0.99      0.99    230210\n",
      "\n"
     ]
    }
   ],
   "source": [
    "print(classification_report(label_test,predictions))"
   ]
  },
  {
   "cell_type": "code",
   "execution_count": 19,
   "metadata": {},
   "outputs": [
    {
     "data": {
      "text/plain": [
       "933894    Best phoneBest phoneREAD MOREFlipkart Customer...\n",
       "554197    Brilliantbest original product... delivered be...\n",
       "631786    BrilliantGenuine n original.. luvng itREAD MOR...\n",
       "392010    Slightly disappointedBattery Backup is Very Po...\n",
       "350749    Terrible productBattery Sucks.Performance Suck...\n",
       "                                ...                        \n",
       "885080    Terrific purchaseGoodREAD MORESam KumarCertifi...\n",
       "19659     Simply awesomeexcellentREAD MOREVivek JaiswalC...\n",
       "470988    Terrible productThe product delivery was good,...\n",
       "878603    Sexy rate beautiful phone apple n flipkart roc...\n",
       "833923    Highly recommendedall apple products are worth...\n",
       "Name: reviews, Length: 230210, dtype: object"
      ]
     },
     "execution_count": 19,
     "metadata": {},
     "output_type": "execute_result"
    }
   ],
   "source": [
    "msg_test"
   ]
  },
  {
   "cell_type": "code",
   "execution_count": 23,
   "metadata": {},
   "outputs": [
    {
     "data": {
      "text/plain": [
       "array(['negative'], dtype='<U8')"
      ]
     },
     "execution_count": 23,
     "metadata": {},
     "output_type": "execute_result"
    }
   ],
   "source": [
    "pipeline.predict(['good bad worse'])"
   ]
  },
  {
   "cell_type": "code",
   "execution_count": null,
   "metadata": {},
   "outputs": [],
   "source": []
  },
  {
   "cell_type": "code",
   "execution_count": null,
   "metadata": {},
   "outputs": [],
   "source": []
  }
 ],
 "metadata": {
  "kernelspec": {
   "display_name": "Python 3",
   "language": "python",
   "name": "python3"
  },
  "language_info": {
   "codemirror_mode": {
    "name": "ipython",
    "version": 3
   },
   "file_extension": ".py",
   "mimetype": "text/x-python",
   "name": "python",
   "nbconvert_exporter": "python",
   "pygments_lexer": "ipython3",
   "version": "3.8.3"
  }
 },
 "nbformat": 4,
 "nbformat_minor": 2
}